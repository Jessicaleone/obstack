{
 "cells": [
  {
   "cell_type": "code",
   "execution_count": null,
   "id": "128ded27",
   "metadata": {},
   "outputs": [],
   "source": [
    "import pandas as pd\n",
    "from elasticsearch import Elasticsearch\n",
    "import json\n",
    "from datetime import datetime"
   ]
  },
  {
   "cell_type": "code",
   "execution_count": null,
   "id": "c5e5381f",
   "metadata": {},
   "outputs": [],
   "source": [
    "es = Elasticsearch(timeout=5000)\n",
    "\n",
    "page = es.search(index='jaeger-span-2022-05-19', scroll='10m', size=10000, body={\"query\": {\n",
    "  \"match\": {\n",
    "         \"kind\":\"SERVER\"\n",
    "             }\n",
    "      },\n",
    "  \"query\":{\n",
    "    \"bool\": {\n",
    "      \"must\": [{\n",
    "        \"script\": {\n",
    "          \"script\": {\n",
    "            \"inline\": \"doc['traceID.keyword'].value == doc['spanID.keyword'].value\"\n",
    "\n",
    "                  }\n",
    "                } \n",
    "              }]\n",
    "            }\n",
    "          }})\n",
    "\n",
    "query_request = []\n",
    "\n",
    "sid = page['_scroll_id']\n",
    "print(page['hits']['total']['value'])\n",
    "\n",
    "while(int(page['hits']['total']['value']) > 0):\n",
    "    print(\"Scrolling...\", str(int(page['hits']['total']['value'])))\n",
    "    query_request.append(page['hits']['hits'])\n",
    "    page = es.scroll(scroll_id=sid, scroll='10m')\n",
    "    page['hits']['total']['value'] = len(page['hits']['hits'])\n",
    "\n",
    "\n",
    "print(len(query_request))\n",
    "\n",
    "result = []\n",
    "\n",
    "for i in query_request:\n",
    "    for j in i:\n",
    "        result.append(j['_source'])\n",
    "\n",
    "print(len(result))"
   ]
  },
  {
   "cell_type": "code",
   "execution_count": null,
   "id": "97f472de",
   "metadata": {},
   "outputs": [],
   "source": [
    "df= pd.DataFrame(result)\n",
    "df"
   ]
  },
  {
   "cell_type": "code",
   "execution_count": null,
   "id": "d2d062ab",
   "metadata": {},
   "outputs": [],
   "source": [
    "for i in df['timestamp'].index:\n",
    "    df.loc[i,'timestamp'] = datetime.utcfromtimestamp(df.loc[i,'timestamp']/1000000)\n",
    "df    "
   ]
  },
  {
   "cell_type": "code",
   "execution_count": null,
   "id": "95f1dec0",
   "metadata": {},
   "outputs": [],
   "source": [
    "timestamp1 = 1652979531\n",
    "timestamp2 = 1652983145\n",
    "start = datetime.fromtimestamp(timestamp1)\n",
    "end = datetime.fromtimestamp(timestamp2)\n",
    "print(start,end)"
   ]
  },
  {
   "cell_type": "code",
   "execution_count": null,
   "id": "2fbb3033",
   "metadata": {
    "scrolled": true
   },
   "outputs": [],
   "source": [
    "mask = (df['timestamp'] > start) & (df['timestamp'] <= end)\n",
    "mask"
   ]
  },
  {
   "cell_type": "code",
   "execution_count": null,
   "id": "8566e1d5",
   "metadata": {},
   "outputs": [],
   "source": [
    "filtered_df=df.loc[mask]\n",
    "print(filtered_df)"
   ]
  },
  {
   "cell_type": "code",
   "execution_count": null,
   "id": "8ecde5e9",
   "metadata": {},
   "outputs": [],
   "source": [
    "import matplotlib.pyplot as plt\n",
    "# set up figure & axes\n",
    "fig, axes = plt.subplots(figsize=(20,20))\n",
    "\n",
    "# drop sharex, sharey, layout & add ax=axes\n",
    "df.hist(column='duration',by='name', ax=axes)\n",
    "\n",
    "# set title and axis labels\n",
    "fig.text(0.01, 0.01, '')\n",
    "fig.text(0.01, 0.01, '', rotation='vertical')"
   ]
  },
  {
   "cell_type": "code",
   "execution_count": null,
   "id": "da22d573",
   "metadata": {},
   "outputs": [],
   "source": []
  }
 ],
 "metadata": {
  "kernelspec": {
   "display_name": "Python 3 (ipykernel)",
   "language": "python",
   "name": "python3"
  },
  "language_info": {
   "codemirror_mode": {
    "name": "ipython",
    "version": 3
   },
   "file_extension": ".py",
   "mimetype": "text/x-python",
   "name": "python",
   "nbconvert_exporter": "python",
   "pygments_lexer": "ipython3",
   "version": "3.9.7"
  }
 },
 "nbformat": 4,
 "nbformat_minor": 5
}
